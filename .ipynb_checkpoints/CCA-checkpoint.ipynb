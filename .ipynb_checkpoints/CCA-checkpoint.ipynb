{
 "cells": [
  {
   "cell_type": "markdown",
   "metadata": {},
   "source": [
    "# CCA\n",
    "\n",
    "canonical correlation analysis\n",
    "\n",
    "\\begin{align*}\n",
    "S_{11}^{-1}S_{12}S_{22}^{-1}S_{21}a=\\rho^2a \\\\\n",
    "S_{22}^{-1}S_{21}S_{11}^{-1}S_{12}b=\\rho^2b\n",
    "\\end{align*}\n",
    "find eigenvalues and eigenvectors"
   ]
  },
  {
   "cell_type": "code",
   "execution_count": 91,
   "metadata": {
    "collapsed": true
   },
   "outputs": [],
   "source": [
    "import numpy as np\n",
    "from numpy import dot\n",
    "import scipy.linalg as la\n",
    "from sklearn.cross_decomposition import CCA"
   ]
  },
  {
   "cell_type": "code",
   "execution_count": 2,
   "metadata": {
    "collapsed": true
   },
   "outputs": [],
   "source": [
    "def cov(X, Y):\n",
    "    \"\"\"\n",
    "    Find covariance matrix\n",
    "    \"\"\"\n",
    "    return np.cov(X, Y)"
   ]
  },
  {
   "cell_type": "code",
   "execution_count": null,
   "metadata": {
    "collapsed": true
   },
   "outputs": [],
   "source": [
    "def var_single(X):\n",
    "    \"\"\"\n",
    "    Find variance matrix\n",
    "    \"\"\"\n",
    "    v = np.cov(X)\n",
    "    r = np.matrix('v,1;1,v')\n",
    "    return r\n",
    "    "
   ]
  },
  {
   "cell_type": "code",
   "execution_count": 19,
   "metadata": {
    "collapsed": true
   },
   "outputs": [],
   "source": [
    "x = [[-2.1, -1,  4.3],[3,8,2]]\n",
    "y = [3,  1.1,  0.12]"
   ]
  },
  {
   "cell_type": "code",
   "execution_count": 30,
   "metadata": {},
   "outputs": [
    {
     "name": "stdout",
     "output_type": "stream",
     "text": [
      "[[1 2]\n",
      " [2 1]]\n"
     ]
    }
   ],
   "source": [
    "print(np.matrix('1,2;2,1'))"
   ]
  },
  {
   "cell_type": "code",
   "execution_count": 203,
   "metadata": {
    "collapsed": true
   },
   "outputs": [],
   "source": [
    "def cca(X,Y):\n",
    "    \"\"\"\n",
    "    Canonical Correlatio Analysis\n",
    "    \n",
    "    Input:\n",
    "    X: observation matrix X, every column is one data point\n",
    "    Y: observation matrix Y, every column is one data point\n",
    "    \n",
    "    Output:\n",
    "    basis in X space, basis in Y space, correlation\n",
    "    \"\"\"\n",
    "    # find variance and covariance matrix\n",
    "    if len(X) == 1:\n",
    "        cov_xx = var_single(X)\n",
    "    else:\n",
    "        cov_xx = np.cov(X)\n",
    "    if len(Y) == 1:\n",
    "        cov_yy = var_single(Y)\n",
    "    else:\n",
    "        cov_yy = np.cov(Y)\n",
    "    n = len(X)\n",
    "\n",
    "    cov_xy = np.cov(X, Y)[:n,n:]    \n",
    "    cov_yx = np.transpose(cov_xy)\n",
    "    # eigen\n",
    "    cov_xx_evalue,cov_xx_evector = la.eig(cov_xx)\n",
    "    cov_xx_isqrt = dot(dot(cov_xx_evector,np.diag(1/np.sqrt(cov_xx_evalue))),np.transpose(cov_xx_evector))\n",
    "    \n",
    "    cov_yy_evalue, cov_yy_evector = la.eig(cov_yy)\n",
    "    cov_yy_isqrt = dot(dot(cov_yy_evector,np.diag(1/np.sqrt(cov_yy_evalue))), np.transpose(cov_yy_evector))\n",
    "    a = la.inv(cov_yy)\n",
    "    # Xmat and Ymat\n",
    "    Xmat = dot(dot(dot(dot(cov_xx_isqrt,cov_xy),la.inv(cov_yy)),cov_yx),cov_xx_isqrt)\n",
    "    ymat = dot(dot(dot(dot(cov_yy_isqrt,cov_yx),la.inv(cov_xx)),cov_xy),cov_yy_isqrt)\n",
    "    \n",
    "    r1=la.eig(Xmat)\n",
    "    r2=la.eig(Ymat)\n",
    "    \n",
    "    return r1,r2\n",
    "    "
   ]
  },
  {
   "cell_type": "code",
   "execution_count": 177,
   "metadata": {},
   "outputs": [],
   "source": [
    "a=[-11.25,7.43, 15.48, 2.27, -48.90, -15.13, 49.28, 4.7, 61.32, -268.95, 8488]\n",
    "b=[-10.87, 7.45, 14.97, 1.97, -47.71, -14.46, 44.36, 5.1, 61.76, -273.02, 8399]\n",
    "c=[-11.18, 7.44, 14.20, 1.97, -48.29, -14.81, 43.66, 5.2, 64.16, -263.20, 8328]\n",
    "d=[-10.62, 7.38, 15.02, 2.03, -49.06, -14.72, 44.80, 4.9, 64.04, -285.11, 8306]\n",
    "e=[-11.02, 7.43, 12.92, 1.97, -47.44, -14.40, 41.20, 5.2, 57.46, -256.64, 8286]\n",
    "f=[-10.83, 7.72, 13.58, 2.12, -48.34, -14.18, 43.06, 4.9, 52.18, -274.07, 8272]\n",
    "g=[-11.18, 7.05, 14.12, 2.06, -49.34, -14.39, 41.68, 5.7, 61.60, -291.20, 8216]\n",
    "h=[-11.05, 6.95, 15.34, 2.00, -48.21, -14.36, 41.32, 4.8, 63.00, -265.86, 8189]\n",
    "i=[-11.15, 7.12, 14.52, 2.03, -49.15, -14.66, 42.36,4.9, 66.46, -269.62, 8180]"
   ]
  },
  {
   "cell_type": "code",
   "execution_count": 45,
   "metadata": {},
   "outputs": [],
   "source": [
    "data = np.vstack((a,b,c,d,e,f,g,h,i))\n",
    "run100=data[:,0]\n",
    "long_jump = data[:,1]\n",
    "shot = data[:,2]\n",
    "high_jump = data[:,3]\n",
    "run400 = data[:,4]\n",
    "hurdle = data[:,5]\n",
    "discus = data[:,6]\n",
    "pole_vault = data[:,7]\n",
    "javelin = data[:,8]\n",
    "run1500 = data[:,9]\n",
    "score = data[:,10]"
   ]
  },
  {
   "cell_type": "markdown",
   "metadata": {},
   "source": [
    "X: shot, discus, javelin, pole_vault\n",
    "\n",
    "Y: run100,run400,run1500,hurdle,long_jump,high_jump"
   ]
  },
  {
   "cell_type": "code",
   "execution_count": 171,
   "metadata": {},
   "outputs": [],
   "source": [
    "X = np.vstack((shot, discus, javelin,pole_vault))\n",
    "Y = np.vstack((run100, run400,run1500,hurdle,long_jump,high_jump))"
   ]
  },
  {
   "cell_type": "code",
   "execution_count": 205,
   "metadata": {},
   "outputs": [],
   "source": [
    "r1,r2=cca(X,Y)"
   ]
  },
  {
   "cell_type": "code",
   "execution_count": 206,
   "metadata": {},
   "outputs": [
    {
     "data": {
      "text/plain": [
       "array([ 0.60595938+0.j,  0.94686012+0.j,  1.00000000+0.j,  1.00000000+0.j])"
      ]
     },
     "execution_count": 206,
     "metadata": {},
     "output_type": "execute_result"
    }
   ],
   "source": [
    "r1[0]"
   ]
  },
  {
   "cell_type": "code",
   "execution_count": 207,
   "metadata": {},
   "outputs": [
    {
     "data": {
      "text/plain": [
       "array([ 0.77843392+0.j,  0.97306738+0.j,  1.00000000+0.j,  1.00000000+0.j])"
      ]
     },
     "execution_count": 207,
     "metadata": {},
     "output_type": "execute_result"
    }
   ],
   "source": [
    "np.sqrt(r1[0])"
   ]
  },
  {
   "cell_type": "code",
   "execution_count": 208,
   "metadata": {},
   "outputs": [
    {
     "data": {
      "text/plain": [
       "array([  7.78433925e-01 +0.00000000e+00j,\n",
       "         9.73067377e-01 +0.00000000e+00j,\n",
       "         0.00000000e+00 +7.82039080e-09j,\n",
       "         1.42187762e-08 +0.00000000e+00j,\n",
       "         1.00000000e+00 +0.00000000e+00j,   1.00000000e+00 +0.00000000e+00j])"
      ]
     },
     "execution_count": 208,
     "metadata": {},
     "output_type": "execute_result"
    }
   ],
   "source": [
    "np.sqrt(r2[0])"
   ]
  },
  {
   "cell_type": "code",
   "execution_count": null,
   "metadata": {
    "collapsed": true
   },
   "outputs": [],
   "source": []
  }
 ],
 "metadata": {
  "kernelspec": {
   "display_name": "Python [default]",
   "language": "python",
   "name": "python3"
  },
  "language_info": {
   "codemirror_mode": {
    "name": "ipython",
    "version": 3
   },
   "file_extension": ".py",
   "mimetype": "text/x-python",
   "name": "python",
   "nbconvert_exporter": "python",
   "pygments_lexer": "ipython3",
   "version": "3.6.1"
  }
 },
 "nbformat": 4,
 "nbformat_minor": 2
}
